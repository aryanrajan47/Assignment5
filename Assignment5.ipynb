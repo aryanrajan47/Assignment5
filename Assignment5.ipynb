{
 "cells": [
  {
   "cell_type": "code",
   "execution_count": 5,
   "id": "a037f863-84cc-4d68-bd56-8d82011c9da0",
   "metadata": {},
   "outputs": [
    {
     "data": {
      "text/plain": [
       "' Python was created by Guido van Rossum '"
      ]
     },
     "execution_count": 5,
     "metadata": {},
     "output_type": "execute_result"
    }
   ],
   "source": [
    "\n",
    "# QUESTION 1\n",
    "\n",
    "''' Python was created by Guido van Rossum '''\n"
   ]
  },
  {
   "cell_type": "code",
   "execution_count": 6,
   "id": "0d3f04a0-6ab3-4b9d-aab3-1e2203cdf5aa",
   "metadata": {},
   "outputs": [
    {
     "data": {
      "text/plain": [
       "' Pyhton is an interpreted, interactive, object-oriented programming language '"
      ]
     },
     "execution_count": 6,
     "metadata": {},
     "output_type": "execute_result"
    }
   ],
   "source": [
    "\n",
    "# QUESTION 2\n",
    "\n",
    "''' Pyhton is an interpreted, interactive, object-oriented programming language '''\n"
   ]
  },
  {
   "cell_type": "code",
   "execution_count": 7,
   "id": "c3a8a914-6205-4b1d-9dfe-870ccc4d13c4",
   "metadata": {},
   "outputs": [
    {
     "data": {
      "text/plain": [
       "' YES. Python is a case-sensitive programming language '"
      ]
     },
     "execution_count": 7,
     "metadata": {},
     "output_type": "execute_result"
    }
   ],
   "source": [
    "\n",
    "# QUESTION 3\n",
    "\n",
    "''' YES. Python is a case-sensitive programming language '''\n"
   ]
  },
  {
   "cell_type": "code",
   "execution_count": 9,
   "id": "d9c21348-edc3-475a-969e-b3760052f31b",
   "metadata": {},
   "outputs": [
    {
     "data": {
      "text/plain": [
       "' pyc : This is the file extension for compiled python code files.\\n    When a.py file is executed ,the python interpreter compiles the code to bytecode and \\n    saves it in a.pyc file to improve performance on subsequent executions '"
      ]
     },
     "execution_count": 9,
     "metadata": {},
     "output_type": "execute_result"
    }
   ],
   "source": [
    "\n",
    "# QUESTION 4\n",
    "\n",
    "''' pyc : This is the file extension for compiled python code files.\n",
    "    When a.py file is executed ,the python interpreter compiles the code to bytecode and \n",
    "    saves it in a.pyc file to improve performance on subsequent executions '''\n"
   ]
  },
  {
   "cell_type": "code",
   "execution_count": 10,
   "id": "1d912892-669c-41dd-a562-07aabd305e06",
   "metadata": {},
   "outputs": [
    {
     "data": {
      "text/plain": [
       "' Python is an interpreted language '"
      ]
     },
     "execution_count": 10,
     "metadata": {},
     "output_type": "execute_result"
    }
   ],
   "source": [
    "\n",
    "# QUESTION 5\n",
    "\n",
    "''' Python is an interpreted language '''\n"
   ]
  },
  {
   "cell_type": "code",
   "execution_count": 11,
   "id": "39fa0448-c2f1-46cc-bf56-8048d3fbc1c4",
   "metadata": {},
   "outputs": [
    {
     "data": {
      "text/plain": [
       "' The following blocks are : a module , a function body and a class definition '"
      ]
     },
     "execution_count": 11,
     "metadata": {},
     "output_type": "execute_result"
    }
   ],
   "source": [
    "\n",
    "# QUESTION 6\n",
    "\n",
    "''' The following blocks are : a module , a function body and a class definition '''\n"
   ]
  },
  {
   "cell_type": "code",
   "execution_count": 12,
   "id": "cc29ce56-d009-41b1-97a8-24fd483ef587",
   "metadata": {},
   "outputs": [
    {
     "data": {
      "text/plain": [
       "' We can write a single line comment bt adding a single # character before any statement or line of code '"
      ]
     },
     "execution_count": 12,
     "metadata": {},
     "output_type": "execute_result"
    }
   ],
   "source": [
    "\n",
    "# QUESTION 7\n",
    "\n",
    "''' We can write a single line comment bt adding a single # character before any statement or line of code '''\n"
   ]
  },
  {
   "cell_type": "code",
   "execution_count": 13,
   "id": "5b4df373-6938-45b1-827a-b423c6453651",
   "metadata": {},
   "outputs": [
    {
     "data": {
      "text/plain": [
       "' The function sys.version can help us to find the version of python that we are currently working on '"
      ]
     },
     "execution_count": 13,
     "metadata": {},
     "output_type": "execute_result"
    }
   ],
   "source": [
    "\n",
    "# QUESTION 8\n",
    "\n",
    "''' The function sys.version can help us to find the version of python that we are currently working on '''\n"
   ]
  },
  {
   "cell_type": "code",
   "execution_count": 14,
   "id": "b8c33fac-7926-46b8-a5d1-934cf4c0257c",
   "metadata": {},
   "outputs": [
    {
     "data": {
      "text/plain": [
       "' Python supports the creation of anonymous functions(i.e. functions that are not bound to a name )\\n    at runtime , using a construct called lambda '"
      ]
     },
     "execution_count": 14,
     "metadata": {},
     "output_type": "execute_result"
    }
   ],
   "source": [
    "\n",
    "# QUESTION 9\n",
    "\n",
    "''' Python supports the creation of anonymous functions(i.e. functions that are not bound to a name )\n",
    "    at runtime , using a construct called lambda '''\n",
    "\n"
   ]
  },
  {
   "cell_type": "code",
   "execution_count": 15,
   "id": "41a52707-973e-43b5-a8c9-486c73d435cc",
   "metadata": {},
   "outputs": [
    {
     "data": {
      "text/plain": [
       "'pip ( an acronym of \"pip install packages\" ) is today the standard tool for installing python packages and\\n   their dependencies in a secure manner '"
      ]
     },
     "execution_count": 15,
     "metadata": {},
     "output_type": "execute_result"
    }
   ],
   "source": [
    "\n",
    "# QUESTION 10\n",
    "\n",
    "'''pip ( an acronym of \"pip install packages\" ) is today the standard tool for installing python packages and\n",
    "   their dependencies in a secure manner '''\n"
   ]
  },
  {
   "cell_type": "code",
   "execution_count": 16,
   "id": "9bd66f93-477f-4cbf-8af2-72e1e92b71ab",
   "metadata": {},
   "outputs": [
    {
     "data": {
      "text/plain": [
       "' Python has a set of built-in functions\\n    1).  bool()\\n    2).  int()\\n    3).  dict()\\n    4).  input()\\n    5).  iter()\\n    6).  len()\\n    7).  map()\\n    8).  next()\\n    9).  pow()\\n    10). print()\\n    11). range()\\n    12). reversed()\\n    13). set()\\n    14). str()\\n    15). sum()\\n    16). tuple()\\n    17). type()\\n    18). list()\\n    19). max()\\n    20). min()         \\n                    '"
      ]
     },
     "execution_count": 16,
     "metadata": {},
     "output_type": "execute_result"
    }
   ],
   "source": [
    "\n",
    "# QUESTION 11\n",
    "\n",
    "''' Python has a set of built-in functions\n",
    "    1).  bool()\n",
    "    2).  int()\n",
    "    3).  dict()\n",
    "    4).  input()\n",
    "    5).  iter()\n",
    "    6).  len()\n",
    "    7).  map()\n",
    "    8).  next()\n",
    "    9).  pow()\n",
    "    10). print()\n",
    "    11). range()\n",
    "    12). reversed()\n",
    "    13). set()\n",
    "    14). str()\n",
    "    15). sum()\n",
    "    16). tuple()\n",
    "    17). type()\n",
    "    18). list()\n",
    "    19). max()\n",
    "    20). min()         \n",
    "                    '''\n"
   ]
  },
  {
   "cell_type": "code",
   "execution_count": 17,
   "id": "2edc15d2-b024-4282-bffc-6ac00279e2e9",
   "metadata": {},
   "outputs": [
    {
     "data": {
      "text/plain": [
       "' An identifier can have a maximum length of 79 characters in python '"
      ]
     },
     "execution_count": 17,
     "metadata": {},
     "output_type": "execute_result"
    }
   ],
   "source": [
    "\n",
    "# QUESTION 12\n",
    "\n",
    "''' An identifier can have a maximum length of 79 characters in python '''\n"
   ]
  },
  {
   "cell_type": "code",
   "execution_count": 18,
   "id": "cf939340-4721-4a1e-9fda-07029a65905a",
   "metadata": {},
   "outputs": [
    {
     "data": {
      "text/plain": [
       "' Advantages of using python : \\n    1). Simple to use and unterstand \\n    2). Free and open source \\n    3). Productivity has incrased \\n    4). Interpreted language \\n    5). Extensive library \\n    6). Dynamically typed \\n    7). Portability\\n    8). Supportive community         '"
      ]
     },
     "execution_count": 18,
     "metadata": {},
     "output_type": "execute_result"
    }
   ],
   "source": [
    "\n",
    "# QUESTION 13\n",
    "\n",
    "''' Advantages of using python : \n",
    "    1). Simple to use and unterstand \n",
    "    2). Free and open source \n",
    "    3). Productivity has incrased \n",
    "    4). Interpreted language \n",
    "    5). Extensive library \n",
    "    6). Dynamically typed \n",
    "    7). Portability\n",
    "    8). Supportive community         '''\n"
   ]
  },
  {
   "cell_type": "code",
   "execution_count": 19,
   "id": "25fb602e-a038-44c7-88f3-4839591e4344",
   "metadata": {},
   "outputs": [
    {
     "data": {
      "text/plain": [
       "' Memory management in python involves the management of a privatev heap.\\n    A private heap is a portion of memory that is exclusive to the python process.\\n    All python objects and data structures are stored in the private heap.\\n    The operating system cannot allocate this piece of memory to another process   '"
      ]
     },
     "execution_count": 19,
     "metadata": {},
     "output_type": "execute_result"
    }
   ],
   "source": [
    "\n",
    "# QUESTION 14\n",
    "\n",
    "''' Memory management in python involves the management of a privatev heap.\n",
    "    A private heap is a portion of memory that is exclusive to the python process.\n",
    "    All python objects and data structures are stored in the private heap.\n",
    "    The operating system cannot allocate this piece of memory to another process   '''\n"
   ]
  },
  {
   "cell_type": "code",
   "execution_count": null,
   "id": "82f8368d-357d-4953-9260-39aab916f856",
   "metadata": {},
   "outputs": [],
   "source": [
    "\n",
    "# QUESTION 15\n",
    "''' 1). Download the python first \n",
    "    2). Right clicking this PC and going to properties \n",
    "    3). Clicking on the advanced system settings in the menu on the left \n",
    "    4). Clicking on the environment variables button on the bottom right\n",
    "    5). In the system variables section, selecting the path variable and clicking on Edit.\n",
    "        The next screen will show all the directions that are currently a part of the PATH variable \n",
    "    6). Clicking on New and entering Python's install directory                                      '''\n",
    "\n"
   ]
  },
  {
   "cell_type": "code",
   "execution_count": 2,
   "id": "1d7f91e8-3f12-4c2c-82f7-70da476bf9be",
   "metadata": {},
   "outputs": [
    {
     "data": {
      "text/plain": [
       "\" Indentation is important in python, because it's how you determine scope.\\n    Scope is how python knows what code belongs to what part of the program   \""
      ]
     },
     "execution_count": 2,
     "metadata": {},
     "output_type": "execute_result"
    }
   ],
   "source": [
    "# QUESTION 16\n",
    "\n",
    "''' Indentation is important in python, because it's how you determine scope.\n",
    "    Scope is how python knows what code belongs to what part of the program   ''' \n"
   ]
  }
 ],
 "metadata": {
  "kernelspec": {
   "display_name": "Python 3 (ipykernel)",
   "language": "python",
   "name": "python3"
  },
  "language_info": {
   "codemirror_mode": {
    "name": "ipython",
    "version": 3
   },
   "file_extension": ".py",
   "mimetype": "text/x-python",
   "name": "python",
   "nbconvert_exporter": "python",
   "pygments_lexer": "ipython3",
   "version": "3.10.6"
  }
 },
 "nbformat": 4,
 "nbformat_minor": 5
}
